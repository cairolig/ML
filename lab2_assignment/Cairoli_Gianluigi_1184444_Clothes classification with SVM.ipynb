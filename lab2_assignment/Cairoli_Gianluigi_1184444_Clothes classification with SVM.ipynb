{
 "cells": [
  {
   "cell_type": "markdown",
   "metadata": {},
   "source": [
    "# Clothes Classification with Support Vector Machines\n",
    "\n",
    "In this notebook we are going to explore the use of Support Vector Machines (SVM) for image classification. We are going to use a new version of the famous MNIST dataset (the original is a dataset of handwritten digits). The version we are going to use is called Fashion MNIST (https://pravarmahajan.github.io/fashion/) and is a dataset of small images of clothes and accessories.\n",
    "\n",
    "\n",
    "\n",
    "The dataset labels are the following:\n",
    "\n",
    "| Label | Description |\n",
    "| --- | --- |\n",
    "| 0 | T-shirt/top |\n",
    "| 1 | Trouser |\n",
    "| 2 | Pullover |\n",
    "| 3 | Dress |\n",
    "| 4 | Coat |\n",
    "| 5 | Sandal |\n",
    "| 6 | Shirt |\n",
    "| 7 | Sneaker |\n",
    "| 8 | Bag |\n",
    "| 9 | Ankle boot |"
   ]
  },
  {
   "cell_type": "code",
   "execution_count": 1,
   "metadata": {},
   "outputs": [],
   "source": [
    "#load the required packages\n",
    "\n",
    "%matplotlib inline  \n",
    "\n",
    "import numpy as np\n",
    "import scipy as sp\n",
    "import matplotlib.pyplot as plt\n",
    "\n",
    "import sklearn\n",
    "import sklearn.metrics as skm\n",
    "from sklearn.datasets import fetch_mldata\n",
    "from sklearn.neural_network import MLPClassifier"
   ]
  },
  {
   "cell_type": "code",
   "execution_count": 2,
   "metadata": {},
   "outputs": [],
   "source": [
    "# helper function to load Fashion MNIST dataset\n",
    "def load_mnist(path, kind='train'):\n",
    "    import os\n",
    "    import gzip\n",
    "    import numpy as np\n",
    "    labels_path = os.path.join(path, '%s-labels-idx1-ubyte.gz' % kind)\n",
    "    images_path = os.path.join(path, '%s-images-idx3-ubyte.gz' % kind)\n",
    "    with gzip.open(labels_path, 'rb') as lbpath:\n",
    "        labels = np.frombuffer(lbpath.read(), dtype=np.uint8,offset=8)\n",
    "    with gzip.open(images_path, 'rb') as imgpath:\n",
    "        images = np.frombuffer(imgpath.read(), dtype=np.uint8,offset=16).reshape(len(labels), 784)\n",
    "    return images, labels"
   ]
  },
  {
   "cell_type": "code",
   "execution_count": 3,
   "metadata": {},
   "outputs": [],
   "source": [
    "#fix your ID (\"numero di matricola\") and the seed for random generator (as usual you can try different seeds)\n",
    "ID = 1184444 #replace with your ID\n",
    "np.random.seed(ID)"
   ]
  },
  {
   "cell_type": "code",
   "execution_count": 4,
   "metadata": {},
   "outputs": [],
   "source": [
    "#load the Fashion MNIST dataset from the 'data' folder and let's normalize the features so that each value is in [0,1] \n",
    "\n",
    "X, y = load_mnist('data', kind='train')\n",
    "# rescale the data\n",
    "X, y = X / 255., y # original pixel values are between 0 and 255"
   ]
  },
  {
   "cell_type": "markdown",
   "metadata": {},
   "source": [
    "Now split into training and test. Make sure that each label is present at least 10 times\n",
    "in training. If it is not, then keep adding permutations to the initial data until this \n",
    "happens."
   ]
  },
  {
   "cell_type": "code",
   "execution_count": 5,
   "metadata": {},
   "outputs": [
    {
     "name": "stdout",
     "output_type": "stream",
     "text": [
      "Labels in training dataset:  [0 1 2 3 4 5 6 7 8 9]\n",
      "Frequencies in training dataset:  [41 61 60 49 55 35 48 56 44 51]\n"
     ]
    }
   ],
   "source": [
    "#random permute the data and split into training and test taking the first 500\n",
    "#data samples as training and the rests as test\n",
    "permutation = np.random.permutation(X.shape[0])\n",
    "\n",
    "X = X[permutation]\n",
    "y = y[permutation]\n",
    "\n",
    "m_training = 500\n",
    "\n",
    "X_train, X_test = X[:m_training], X[m_training:]\n",
    "y_train, y_test = y[:m_training], y[m_training:]\n",
    "\n",
    "labels, freqs = np.unique(y_train, return_counts=True)\n",
    "print(\"Labels in training dataset: \", labels)\n",
    "print(\"Frequencies in training dataset: \", freqs)\n"
   ]
  },
  {
   "cell_type": "code",
   "execution_count": 6,
   "metadata": {},
   "outputs": [],
   "source": [
    "#function for plotting a image and printing the corresponding label\n",
    "def plot_input(X_matrix, labels, index):\n",
    "    print(\"INPUT:\")\n",
    "    plt.imshow(\n",
    "        X_matrix[index].reshape(28,28),\n",
    "        cmap          = plt.cm.gray_r,\n",
    "        interpolation = \"nearest\"\n",
    "    )\n",
    "    plt.show()\n",
    "    print(\"LABEL: %i\"%labels[index])\n",
    "    return"
   ]
  },
  {
   "cell_type": "code",
   "execution_count": 7,
   "metadata": {},
   "outputs": [
    {
     "name": "stdout",
     "output_type": "stream",
     "text": [
      "INPUT:\n"
     ]
    },
    {
     "data": {
      "image/png": "[encoded data removed]",
      "text/plain": [
       "<Figure size 432x288 with 1 Axes>"
      ]
     },
     "metadata": {
      "needs_background": "light"
     },
     "output_type": "display_data"
    },
    {
     "name": "stdout",
     "output_type": "stream",
     "text": [
      "LABEL: 9\n",
      "INPUT:\n"
     ]
    },
    {
     "data": {
      "image/png": "[encoded data removed]",
      "text/plain": [
       "<Figure size 432x288 with 1 Axes>"
      ]
     },
     "metadata": {
      "needs_background": "light"
     },
     "output_type": "display_data"
    },
    {
     "name": "stdout",
     "output_type": "stream",
     "text": [
      "LABEL: 3\n",
      "INPUT:\n"
     ]
    },
    {
     "data": {
      "image/png": "[encoded data removed]",
      "text/plain": [
       "<Figure size 432x288 with 1 Axes>"
      ]
     },
     "metadata": {
      "needs_background": "light"
     },
     "output_type": "display_data"
    },
    {
     "name": "stdout",
     "output_type": "stream",
     "text": [
      "LABEL: 6\n",
      "INPUT:\n"
     ]
    },
    {
     "data": {
      "image/png": "[encoded data removed]",
      "text/plain": [
       "<Figure size 432x288 with 1 Axes>"
      ]
     },
     "metadata": {
      "needs_background": "light"
     },
     "output_type": "display_data"
    },
    {
     "name": "stdout",
     "output_type": "stream",
     "text": [
      "LABEL: 1\n"
     ]
    }
   ],
   "source": [
    "#let's try the plotting function\n",
    "plot_input(X_train,y_train,10)\n",
    "plot_input(X_test,y_test,100)\n",
    "plot_input(X_test,y_test,1000)\n",
    "plot_input(X_test,y_test,10000)"
   ]
  },
  {
   "cell_type": "markdown",
   "metadata": {},
   "source": [
    "## TO DO 1\n",
    "Use a SVM classifier with cross validation to pick a model. Use a 5-fold cross-validation. Let's start with a Linear kernel:"
   ]
  },
  {
   "cell_type": "code",
   "execution_count": 8,
   "metadata": {},
   "outputs": [
    {
     "name": "stdout",
     "output_type": "stream",
     "text": [
      "RESULTS FOR LINEAR KERNEL\n",
      "Best parameters set found:\n",
      "{'C': 1}\n",
      "Score with best parameters:\n",
      "0.74\n",
      "All scores on the grid:\n",
      "[0.48  0.728 0.736 0.74  0.74  0.74 ]\n",
      "[0.0220997  0.03798888 0.03274001 0.04317808 0.04317808 0.04317808]\n"
     ]
    }
   ],
   "source": [
    "#import SVC\n",
    "from sklearn.svm import SVC\n",
    "#import for Cross-Validation\n",
    "from sklearn.model_selection import GridSearchCV\n",
    "\n",
    "#grid of parameters for your SVC\n",
    "#param_grid = [\n",
    "#  {'C': [1, 10, 100, 1000], 'kernel': ['linear']},\n",
    "#  {'C': [1, 10, 100, 1000], 'gamma': [0.01, 0.001], 'kernel': ['rbf']},\n",
    "#  {'C': [1, 10, 100, 1000], 'gamma': [0.01, 0.001], 'kernel': ['poly']},\n",
    "# ]\n",
    "\n",
    "# parameters for linear SVM\n",
    "parameters = {'C': [0.001, 0.01, 0.1, 1, 10, 100]}\n",
    "\n",
    "#run linear SVM\n",
    "svcclassifier = SVC(kernel='linear')\n",
    "clf = GridSearchCV(svcclassifier, parameters, cv=5)\n",
    "clf.fit(X_train, y_train)\n",
    "\n",
    "\n",
    "print ('RESULTS FOR LINEAR KERNEL')\n",
    "print(\"Best parameters set found:\")\n",
    "\n",
    "best_parameters = clf.best_params_ \n",
    "print(best_parameters)\n",
    "\n",
    "print(\"Score with best parameters:\")\n",
    "\n",
    "best_score = clf.best_score_\n",
    "print(best_score)\n",
    "\n",
    "print(\"All scores on the grid:\")\n",
    "\n",
    "print(clf.cv_results_['mean_test_score'])\n",
    "print(clf.cv_results_['std_test_score'])"
   ]
  },
  {
   "cell_type": "markdown",
   "metadata": {},
   "source": [
    "## TO DO 2\n",
    "Pick a model for the Polynomial kernel with degree=2:"
   ]
  },
  {
   "cell_type": "code",
   "execution_count": 9,
   "metadata": {},
   "outputs": [
    {
     "name": "stdout",
     "output_type": "stream",
     "text": [
      "RESULTS FOR POLY DEGREE=2 KERNEL\n",
      "\n",
      "Best parameters set found:\n",
      "{'C': 0.1, 'gamma': 0.1}\n",
      "\n",
      "Score with best parameters:\n",
      "0.728\n",
      "\n",
      "All scores on the grid:\n",
      "[0.188 0.696 0.724 0.592 0.728 0.726 0.696 0.724 0.726]\n",
      "[0.00836659 0.0458227  0.04597444 0.05460587 0.04155202 0.04254178\n",
      " 0.0458227  0.04597444 0.04254178]\n"
     ]
    }
   ],
   "source": [
    "# parameters for poly with degree 2 kernel\n",
    "parameters = {'C': [0.01, 0.1, 1],'gamma':[0.01,0.1,1.]}\n",
    "\n",
    "#run SVM with poly of degree 2 kernel\n",
    "\n",
    "svcclassifier = SVC(kernel='poly', degree=2)\n",
    "clf = GridSearchCV(svcclassifier, parameters, cv=5)\n",
    "clf.fit(X_train, y_train)\n",
    "\n",
    "print ('RESULTS FOR POLY DEGREE=2 KERNEL')\n",
    "\n",
    "print(\"\\nBest parameters set found:\")\n",
    "best_parameters = clf.best_params_ \n",
    "print(best_parameters)\n",
    "\n",
    "print(\"\\nScore with best parameters:\")\n",
    "best_score = clf.best_score_\n",
    "print(best_score)\n",
    "\n",
    "print(\"\\nAll scores on the grid:\")\n",
    "print(clf.cv_results_['mean_test_score'])\n",
    "print(clf.cv_results_['std_test_score'])"
   ]
  },
  {
   "cell_type": "markdown",
   "metadata": {},
   "source": [
    "## TO DO 3\n",
    "\n",
    "Now let's try a higher degree for the polynomial kernel."
   ]
  },
  {
   "cell_type": "code",
   "execution_count": 10,
   "metadata": {},
   "outputs": [
    {
     "name": "stdout",
     "output_type": "stream",
     "text": [
      "RESULTS FOR POLY DEGREE= 3  KERNEL\n",
      "Best parameters set found:\n",
      "{'C': 0.01, 'gamma': 0.1}\n",
      "Score with best parameters:\n",
      "0.702\n",
      "\n",
      "All scores on the grid:\n",
      "[0.35  0.702 0.692 0.576 0.69  0.692 0.674 0.692 0.692]\n",
      "[0.02884195 0.06105371 0.04380066 0.04811638 0.04055016 0.04380066\n",
      " 0.03743994 0.04380066 0.04380066]\n"
     ]
    }
   ],
   "source": [
    "# parameters for poly with higher degree kernel\n",
    "parameters = {'C': [0.01, 0.1, 1],'gamma':[0.01,0.1,1.]}\n",
    "\n",
    "#run SVM with poly of higher degree kernel\n",
    "degree = 3\n",
    "svcclassifier = SVC(kernel='poly', degree=3)\n",
    "clf = GridSearchCV(svcclassifier, parameters, cv=5)\n",
    "clf.fit(X_train, y_train)\n",
    "\n",
    "print ('RESULTS FOR POLY DEGREE=', degree, ' KERNEL')\n",
    "print(\"Best parameters set found:\")\n",
    "\n",
    "best_parameters = clf.best_params_ \n",
    "print(best_parameters)\n",
    "\n",
    "print(\"Score with best parameters:\")\n",
    "\n",
    "best_score = clf.best_score_\n",
    "print(best_score)\n",
    "\n",
    "print(\"\\nAll scores on the grid:\")\n",
    "\n",
    "print(clf.cv_results_['mean_test_score'])\n",
    "print(clf.cv_results_['std_test_score'])"
   ]
  },
  {
   "cell_type": "markdown",
   "metadata": {},
   "source": [
    "## TO DO4 \n",
    "What do you observe when fitting a higher degree polynomial on this dataset?\n",
    "\n",
    "When I increase the polynomial degree I got a lower performance, I've tried also with a degree 10 polynomial which leads to a best score of 0.5."
   ]
  },
  {
   "cell_type": "markdown",
   "metadata": {},
   "source": [
    "## TO DO 5\n",
    "Pick a model for the Radial Basis Function kernel:"
   ]
  },
  {
   "cell_type": "code",
   "execution_count": 11,
   "metadata": {},
   "outputs": [
    {
     "name": "stdout",
     "output_type": "stream",
     "text": [
      "RESULTS FOR rbf KERNEL\n",
      "Best parameters set found:\n",
      "{'C': 10, 'gamma': 0.01}\n",
      "Score with best parameters:\n",
      "0.756\n",
      "All scores on the grid:\n",
      "[0.14  0.44  0.44  0.138 0.654 0.744 0.744 0.538 0.736 0.756 0.756 0.556\n",
      " 0.752 0.754 0.754 0.556]\n",
      "[0.03216203 0.02280678 0.02280678 0.03278616 0.03625003 0.03462067\n",
      " 0.03462067 0.04881119 0.03715386 0.03701046 0.03701046 0.06104928\n",
      " 0.03876592 0.03535215 0.03535215 0.06104928]\n"
     ]
    }
   ],
   "source": [
    "# parameters for rbf SVM\n",
    "parameters = {'C': [0.1, 1, 10, 100],'gamma':[0.001, 0.01, 0.01,0.1]}\n",
    "\n",
    "#run SVM with rbf kernel\n",
    "svcclassifier = SVC(kernel='rbf')\n",
    "clf = GridSearchCV(svcclassifier, parameters, cv=5)\n",
    "clf.fit(X_train, y_train)\n",
    "\n",
    "\n",
    "print ('RESULTS FOR rbf KERNEL')\n",
    "\n",
    "print(\"Best parameters set found:\")\n",
    "\n",
    "best_parameters = clf.best_params_ \n",
    "print(best_parameters)\n",
    "\n",
    "print(\"Score with best parameters:\")\n",
    "\n",
    "best_score = clf.best_score_\n",
    "print(best_score)\n",
    "\n",
    "print(\"All scores on the grid:\")\n",
    "print(clf.cv_results_['mean_test_score'])\n",
    "print(clf.cv_results_['std_test_score'])"
   ]
  },
  {
   "cell_type": "markdown",
   "metadata": {},
   "source": [
    "## TO DO 6\n",
    "Report here the best SVM kernel and parameters"
   ]
  },
  {
   "cell_type": "code",
   "execution_count": 12,
   "metadata": {
    "scrolled": true
   },
   "outputs": [
    {
     "name": "stdout",
     "output_type": "stream",
     "text": [
      "Best SVM training error: 0.000000\n",
      "Best SVM test error: 0.202387\n"
     ]
    }
   ],
   "source": [
    "#get training and test error for the best SVM model from CV\n",
    "\n",
    "#best is with kernel=rbf c=10 and gamma=0.01\n",
    "parameters = {'C': [10],'gamma':[0.01]}\n",
    "new_SVM = SVC(kernel='rbf')\n",
    "best_SVM = GridSearchCV(new_SVM, parameters, cv=5)\n",
    "best_SVM.fit(X_train, y_train)\n",
    "\n",
    "training_error = 1. - best_SVM.score(X_train,y_train)\n",
    "test_error = 1. - best_SVM.score(X_test,y_test)\n",
    "\n",
    "print (\"Best SVM training error: %f\" % training_error)\n",
    "print (\"Best SVM test error: %f\" % test_error)"
   ]
  },
  {
   "cell_type": "markdown",
   "metadata": {},
   "source": [
    "## More data\n",
    "Now let's do the same but using more data points for training.\n",
    "\n",
    "### TO DO 7\n",
    "Choose a new number of data points."
   ]
  },
  {
   "cell_type": "code",
   "execution_count": 13,
   "metadata": {},
   "outputs": [
    {
     "name": "stdout",
     "output_type": "stream",
     "text": [
      "Labels in training dataset:  [0 1 2 3 4 5 6 7 8 9]\n",
      "Frequencies in training dataset:  [196 197 188 212 181 198 213 203 228 184]\n"
     ]
    }
   ],
   "source": [
    "X = X[permutation]\n",
    "y = y[permutation]\n",
    "\n",
    "m_training = 2000 # TODO number of data points, adjust depending on the capabilities of your PC\n",
    "\n",
    "X_train, X_test = X[:m_training], X[m_training:]\n",
    "y_train, y_test = y[:m_training], y[m_training:]\n",
    "\n",
    "labels, freqs = np.unique(y_train, return_counts=True)\n",
    "print(\"Labels in training dataset: \", labels)\n",
    "print(\"Frequencies in training dataset: \", freqs)"
   ]
  },
  {
   "cell_type": "markdown",
   "metadata": {},
   "source": [
    "Let's try to use SVM with parameters obtained from the best model for $m_{training} =  500$. Since it may take a long time to run, you can decide to just let it run for some time and stop it if it does not complete. If you decide to do this, report it in the TO DO 9 cell below."
   ]
  },
  {
   "cell_type": "code",
   "execution_count": 14,
   "metadata": {
    "scrolled": true
   },
   "outputs": [
    {
     "name": "stdout",
     "output_type": "stream",
     "text": [
      "Best SVM training error: 0.004000\n",
      "Best SVM test error: 0.159517\n"
     ]
    }
   ],
   "source": [
    "#get training and test error for the best SVM model from CV\n",
    "\n",
    "parameters = {'C': [10],'gamma':[0.01]}\n",
    "new_SVM = SVC(kernel='rbf')\n",
    "best_SVM = GridSearchCV(new_SVM, parameters, cv=5)\n",
    "best_SVM.fit(X_train, y_train)\n",
    "\n",
    "training_error = 1. - best_SVM.score(X_train,y_train)\n",
    "test_error = 1. - best_SVM.score(X_test,y_test)\n",
    "\n",
    "print (\"Best SVM training error: %f\" % training_error)\n",
    "print (\"Best SVM test error: %f\" % test_error)"
   ]
  },
  {
   "cell_type": "markdown",
   "metadata": {},
   "source": [
    "Just for comparison, let's also use logistic regression (with standard parameters from scikit-learn, i.e. some regularization is included)."
   ]
  },
  {
   "cell_type": "code",
   "execution_count": 15,
   "metadata": {},
   "outputs": [
    {
     "name": "stdout",
     "output_type": "stream",
     "text": [
      "Best logistic regression training error: 0.036000\n",
      "Best logistic regression test error: 0.184517\n"
     ]
    }
   ],
   "source": [
    "from sklearn import linear_model\n",
    "\n",
    "linear_Class = linear_model.LogisticRegression()\n",
    "linear_Class.fit(X_train, y_train)\n",
    "\n",
    "training_error = 1 - linear_Class.score(X_train, y_train)\n",
    "test_error = 1 -  linear_Class.score(X_test, y_test)\n",
    "\n",
    "print (\"Best logistic regression training error: %f\" % training_error)\n",
    "print (\"Best logistic regression test error: %f\" % test_error)"
   ]
  },
  {
   "cell_type": "markdown",
   "metadata": {},
   "source": [
    "## TO DO 9\n",
    "Compare and discuss:\n",
    "- the results from SVM with m=500 and with m=30000 training data points. If you stopped the SVM, include such aspect in your comparison.\n",
    "- the results of SVM and of Logistic Regression\n",
    "\n",
    "\n",
    "I've changed the size up to 2000 (even with this size the computation requires 45s), the test error has reduced of\n",
    "0.05 which is a significant change, obviously the test error has increased, but this is a convenient trade off.\n",
    "\n",
    "Logistic regression performs a little worse than SVM, but it's much faster. Training error is still low while the test's one is a little higher."
   ]
  },
  {
   "cell_type": "markdown",
   "metadata": {},
   "source": [
    "## TO DO 10\n",
    "Plot an item of clothing that is missclassified by logistic regression and correctly classified by SVM."
   ]
  },
  {
   "cell_type": "code",
   "execution_count": 16,
   "metadata": {},
   "outputs": [
    {
     "name": "stdout",
     "output_type": "stream",
     "text": [
      "Logistic regression\n",
      "INPUT:\n"
     ]
    },
    {
     "data": {
      "image/png": "[encoded data removed]",
      "text/plain": [
       "<Figure size 432x288 with 1 Axes>"
      ]
     },
     "metadata": {
      "needs_background": "light"
     },
     "output_type": "display_data"
    },
    {
     "name": "stdout",
     "output_type": "stream",
     "text": [
      "LABEL: 4\n",
      "SVM\n",
      "INPUT:\n"
     ]
    },
    {
     "data": {
      "image/png": "[encoded data removed]",
      "text/plain": [
       "<Figure size 432x288 with 1 Axes>"
      ]
     },
     "metadata": {
      "needs_background": "light"
     },
     "output_type": "display_data"
    },
    {
     "name": "stdout",
     "output_type": "stream",
     "text": [
      "LABEL: 2\n"
     ]
    }
   ],
   "source": [
    "LR_prediction = linear_Class.predict(X_test)\n",
    "SVM_prediction = best_SVM.predict(X_test)\n",
    "\n",
    "for i in range(LR_prediction.shape[0]):\n",
    "    if( (LR_prediction[i]==y_test[i]) and (LR_prediction[i] != SVM_prediction[i])):\n",
    "        missIndex = i\n",
    "        break\n",
    "print(\"Logistic regression\")\n",
    "plot_input(X_test, LR_prediction, missIndex)\n",
    "print(\"SVM\")\n",
    "plot_input(X_test, SVM_prediction, missIndex)"
   ]
  },
  {
   "cell_type": "markdown",
   "metadata": {},
   "source": [
    "## TO DO 11\n",
    "Plot the confusion matrix for the SVM classifier and for logistic regression.\n",
    "The confusion matrix has one column for each predicted label and one row for each true label. \n",
    "It shows for each class in the corresponding row how many samples belonging to that class gets each possible output label.\n",
    "Notice that the diagonal contains the correctly classified samples, while the other cells correspond to errors.\n",
    "You can obtain it with the sklearn.metrics.confusion_matrix function (see the documentation).\n",
    "Try also to normalize the confusion matrix by dividing each row for the number of samples in each class in order to measure the accuracy on each single class.\n"
   ]
  },
  {
   "cell_type": "code",
   "execution_count": 17,
   "metadata": {},
   "outputs": [
    {
     "name": "stdout",
     "output_type": "stream",
     "text": [
      "Labels and frequencies in test set:  [5804 5803 5812 5788 5819 5802 5787 5797 5772 5816]\n",
      "\n",
      " Confusion matrix SVM  \n",
      " \n",
      " [[4590    9   84  239   23   12  771    0   76    0]\n",
      " [  20 5529   36  163   14    1   39    0    1    0]\n",
      " [  80    6 4200   54  763    4  656    0   49    0]\n",
      " [ 219   50   57 5014  160    0  275    0   13    0]\n",
      " [   9    6  563  261 4299    2  657    0   21    1]\n",
      " [   0    0    4    4    0 5396    3  270   21  104]\n",
      " [ 873   10  556  167  448    5 3619    0  109    0]\n",
      " [   0    0    0    0    0  253    0 5203    4  337]\n",
      " [  15    5   38   35   25   59  103   32 5452    8]\n",
      " [   0    0    2    1    0  111    1  253    2 5446]]\n",
      "\n",
      " Normalized confusion matrix SVM: \n",
      " \n",
      ": [[0.79 0.00 0.01 0.04 0.00 0.00 0.13 0.00 0.01 0.00]\n",
      " [0.00 0.95 0.01 0.03 0.00 0.00 0.01 0.00 0.00 0.00]\n",
      " [0.01 0.00 0.72 0.01 0.13 0.00 0.11 0.00 0.01 0.00]\n",
      " [0.04 0.01 0.01 0.87 0.03 0.00 0.05 0.00 0.00 0.00]\n",
      " [0.00 0.00 0.10 0.04 0.74 0.00 0.11 0.00 0.00 0.00]\n",
      " [0.00 0.00 0.00 0.00 0.00 0.93 0.00 0.05 0.00 0.02]\n",
      " [0.15 0.00 0.10 0.03 0.08 0.00 0.63 0.00 0.02 0.00]\n",
      " [0.00 0.00 0.00 0.00 0.00 0.04 0.00 0.90 0.00 0.06]\n",
      " [0.00 0.00 0.01 0.01 0.00 0.01 0.02 0.01 0.94 0.00]\n",
      " [0.00 0.00 0.00 0.00 0.00 0.02 0.00 0.04 0.00 0.94]]\n",
      "\n",
      " Confusion matrix LR  \n",
      " \n",
      " [[4520   29  111  326   63    9  637    6  101    2]\n",
      " [   9 5499   47  174   32    3   36    0    3    0]\n",
      " [  80   14 3937   72  900   10  728    0   71    0]\n",
      " [ 196   78   69 4936  197    0  292    3   16    1]\n",
      " [  10   13  571  264 4113    5  796    0   46    1]\n",
      " [   4    1   10    8    1 5059   12  393  101  213]\n",
      " [ 849   28  603  223  621    5 3302    2  153    1]\n",
      " [   0    0    0    0    0  272    1 5128    9  387]\n",
      " [  22    3   27   85   37   54  104   34 5402    4]\n",
      " [   0    1    0    3    1  118    5  280    6 5402]]\n",
      "\n",
      " Normalized confusion matrix LR: \n",
      " \n",
      ": [[0.78 0.00 0.02 0.06 0.01 0.00 0.11 0.00 0.02 0.00]\n",
      " [0.00 0.95 0.01 0.03 0.01 0.00 0.01 0.00 0.00 0.00]\n",
      " [0.01 0.00 0.68 0.01 0.15 0.00 0.13 0.00 0.01 0.00]\n",
      " [0.03 0.01 0.01 0.85 0.03 0.00 0.05 0.00 0.00 0.00]\n",
      " [0.00 0.00 0.10 0.05 0.71 0.00 0.14 0.00 0.01 0.00]\n",
      " [0.00 0.00 0.00 0.00 0.00 0.87 0.00 0.07 0.02 0.04]\n",
      " [0.15 0.00 0.10 0.04 0.11 0.00 0.57 0.00 0.03 0.00]\n",
      " [0.00 0.00 0.00 0.00 0.00 0.05 0.00 0.88 0.00 0.07]\n",
      " [0.00 0.00 0.00 0.01 0.01 0.01 0.02 0.01 0.94 0.00]\n",
      " [0.00 0.00 0.00 0.00 0.00 0.02 0.00 0.05 0.00 0.93]]\n"
     ]
    }
   ],
   "source": [
    "np.set_printoptions(precision=2, suppress=True,floatmode='fixed') # for better aligned printing of confusion matrix\n",
    "\n",
    "u, counts = np.unique(y_test, return_counts=True)\n",
    "print(\"Labels and frequencies in test set: \", counts)\n",
    "\n",
    "confusion_SVM = skm.confusion_matrix(y_test, SVM_prediction)\n",
    "print(\"\\n Confusion matrix SVM  \\n \\n\", confusion_SVM)\n",
    "normalizedConfusionSVM = []\n",
    "i = 0\n",
    "for row in confusion_SVM:\n",
    "    normalizedConfusionSVM.append(row/counts[i])\n",
    "    i+=1\n",
    "normalizedConfusionSVM = np.array(normalizedConfusionSVM)    \n",
    "print(\"\\n Normalized confusion matrix SVM: \\n \\n:\", normalizedConfusionSVM)\n",
    "\n",
    "confusion_LR = skm.confusion_matrix(y_test, LR_prediction)\n",
    "print(\"\\n Confusion matrix LR  \\n \\n\", confusion_LR)\n",
    "normalizedConfusionLR = []\n",
    "i = 0\n",
    "for row in confusion_LR:\n",
    "    normalizedConfusionLR.append(row/counts[i])\n",
    "    i+=1\n",
    "normalizedConfusionLR = np.array(normalizedConfusionLR)\n",
    "print(\"\\n Normalized confusion matrix LR: \\n \\n:\", normalizedConfusionLR)\n"
   ]
  },
  {
   "cell_type": "markdown",
   "metadata": {},
   "source": [
    "## TO DO 12\n",
    "Have a look at the confusion matrices and comment on the obtained accuracies. Why some classes have lower accuracies and others an higher one ? Make some guesses on the possible causes.\n",
    "\n",
    "It's hard to say why some performs better, this may depend because some clothes are very similar and the classification algorithm fails in certain cases, in fact It seems that the ones with lower performances are the third and the 7th element, so the t-shirt and the pull-over. For the same reason, inspectioning the matrix, we see that an ankle boot is almost never classified as a shirt.\n"
   ]
  },
  {
   "cell_type": "code",
   "execution_count": null,
   "metadata": {},
   "outputs": [],
   "source": []
  }
 ],
 "metadata": {
  "kernelspec": {
   "display_name": "Python 3",
   "language": "python",
   "name": "python3"
  },
  "language_info": {
   "codemirror_mode": {
    "name": "ipython",
    "version": 3
   },
   "file_extension": ".py",
   "mimetype": "text/x-python",
   "name": "python",
   "nbconvert_exporter": "python",
   "pygments_lexer": "ipython3",
   "version": "3.7.0"
  }
 },
 "nbformat": 4,
 "nbformat_minor": 2
}
